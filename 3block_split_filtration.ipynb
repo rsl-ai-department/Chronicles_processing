{
 "cells": [
  {
   "cell_type": "code",
   "execution_count": 1,
   "id": "7dea7326-9a63-4e2d-93ae-18cc138783ae",
   "metadata": {},
   "outputs": [],
   "source": [
    "import pickle\n",
    "import re\n",
    "import matplotlib.pyplot as plt"
   ]
  },
  {
   "cell_type": "code",
   "execution_count": 11,
   "id": "261ddb96-06f8-4393-bce2-c39aa63ad1ab",
   "metadata": {},
   "outputs": [],
   "source": [
    "# filtering from index of serial publications\n",
    "def pages_without_serias(data):\n",
    "    serial_edition_list = []\n",
    "    common_list = []\n",
    "\n",
    "    pattern = 'указатель серийных изданий'\n",
    "\n",
    "    for el in data:\n",
    "        img_path, text = el\n",
    "        # print(type(img_path))\n",
    "        matching = re.search(pattern, img_path)\n",
    "        if matching:\n",
    "            serial_edition_list.append(el)\n",
    "        else:\n",
    "            common_list.append(el)\n",
    "    return common_list\n",
    "\n",
    "# filtering of error headers\n",
    "def filter_headers(common_list):\n",
    "    pattern_reg = re.compile('(\\d+-\\d+[а-я])|(\\d+-\\d+)', 0)\n",
    "    demo_2 = []\n",
    "    for el in common_list:\n",
    "        img_path, text = el\n",
    "        new_text = []\n",
    "        for block in range(len(text)):\n",
    "            if 'HEADER' in text[block] and re.search(pattern_reg, text[block]):\n",
    "                if block > 0:\n",
    "                    new_text[-1] += text[block].replace('HEADER', ' ----->')\n",
    "                else:\n",
    "                    new_text.append(text[block].replace('HEADER', ' ----->'))\n",
    "            else:\n",
    "                new_text.append(text[block])\n",
    "        el2 = img_path, new_text\n",
    "        demo_2.append(el2)\n",
    "    return demo_2 \n",
    "\n",
    "# get single blocks without 'multiple blocks' (with ordinal number through range)\n",
    "def get_blocks(demo_2):\n",
    "    multiple_block_list = []\n",
    "    simp_block_list = []\n",
    "    headers_list = []\n",
    "\n",
    "    for img in demo_2:\n",
    "        img_path, text_list = img\n",
    "        for block in text_list:\n",
    "            # print(block)\n",
    "            mult_block = re.compile(r'(-{5}>  \\d+-\\d+ \\. [А-ЯЁ])|(-{5}>  \\d+-\\d+\\. [А-ЯЁ])')\n",
    "            header = re.compile(r'(HEADER  )')\n",
    "            if re.match(mult_block, block):\n",
    "                multiple_block_list.append((block, img_path))\n",
    "            elif re.match(header, block):\n",
    "                headers_list.append((block, img_path))\n",
    "                # continue\n",
    "            else:\n",
    "                simp_block_list.append((block, img_path))\n",
    "    return simp_block_list #for single blocks\n",
    "    # return multiple_block_list #for multiple blocks"
   ]
  },
  {
   "cell_type": "code",
   "execution_count": 3,
   "id": "f98f1b1d-c9e6-46ce-9e4e-a5e341c94062",
   "metadata": {},
   "outputs": [],
   "source": [
    "pickle_path = 'block_split_59_79.pickle' #pickle with all data for iteration"
   ]
  },
  {
   "cell_type": "code",
   "execution_count": 12,
   "id": "15662baf-8741-47ad-a866-3a0c3975120c",
   "metadata": {},
   "outputs": [],
   "source": [
    "# MAIN\n",
    "with open(pickle_path, 'rb') as f:\n",
    "    data = pickle.load(f)\n",
    "# print(len(data))\n",
    "common_list = pages_without_serias(data) #filtering from index of serial publications\n",
    "# print(len(common_list))\n",
    "demo_2 = filter_headers(common_list) #headers error correction\n",
    "single_blocks = get_blocks(demo_2) #for single blocks\n",
    "# multuple_blocks = get_blocks(demo_2) #for multiple blocks\n",
    "\n",
    "# print(len(single_blocks))\n",
    "# print(len(multuple_blocks))"
   ]
  },
  {
   "cell_type": "code",
   "execution_count": null,
   "id": "59bdbf20",
   "metadata": {},
   "outputs": [],
   "source": [
    "# DEMO\n",
    "# single_blocks[400000]\n",
    "#('----->  22433. Вопросы методики преподавания иностранных языков в шко- $$$  ле. Из опыта работы с новыми учебниками по иностр. яз. в восьмилет. $$$  школе. [Сборник статей. Ред. коллегия: К. И. Саломатов (отв. ред.) и др.] $$$  Горький, 1972. 140 с. с черт. (М-во просвещения РСФСР. Горьк. гос. пед. $$$  ин-т иностр. яз. им. Н. А. Добролюбова. Учен. записки. Вып. 54). - 19 см. $$$ NUM  407(07.07) $$$  600 экз. 60 к. - [73-16767ж]',\n",
    "#  './letopisi/1973/28/0071.jpg')\n",
    "\n",
    "# single_blocks[777999]\n",
    "# ('----->  10230. Громов А. -- Довоенные дети : [Повесть] / Александр Гро- $$$  мов. - Кишинев : «Картя молдовеняскэ», 1975 С. - 239 с. : 17 см. - $$$  Молд. - 27 к. 8.000 экз. - [ 75-91709 ] п 859.2-31',\n",
    "#  './letopisi/1976/12/0075.jpg')\n",
    "\n",
    "# multuple_blocks[5000]\n",
    "# ('----->  29470-71 . Приборы и системы автоматики. [Сборник статей, Ред. кол- $$$  легия: Е. Я. Иванченко (отв. ред.) и др.] Харьков, Изд. Харьк, ун-та, $$$  1969. (Респ. межвед. науч.-техн. сборник). - 26 см. 1.000 экз. $$$ ----->  Вып. 8. 135 с. с илл. - Библиогр. в конце статей. - 95 к. $$$  [69-23629ж] ----->  Вып. 10. 139 с. с илл. -- 1 р. 3 к. --- [69-23626ж] $$$ PAGE  31',\n",
    "#  './letopisi/1969/36/0031.jpg')"
   ]
  },
  {
   "cell_type": "code",
   "execution_count": 10,
   "id": "d00416fd-16a2-4386-b71a-690d54118e16",
   "metadata": {},
   "outputs": [],
   "source": [
    "# SAVE RESULTS\n",
    "# with open('single_blocks_59_79.pickle', 'wb') as f:\n",
    "#     pickle.dump(single_blocks, f)\n",
    "\n",
    "# with open('multiple_blocks_59_79.pickle', 'wb') as f:\n",
    "#     pickle.dump(multuple_blocks, f)"
   ]
  }
 ],
 "metadata": {
  "kernelspec": {
   "display_name": "Python 3 (ipykernel)",
   "language": "python",
   "name": "python3"
  },
  "language_info": {
   "codemirror_mode": {
    "name": "ipython",
    "version": 3
   },
   "file_extension": ".py",
   "mimetype": "text/x-python",
   "name": "python",
   "nbconvert_exporter": "python",
   "pygments_lexer": "ipython3",
   "version": "3.9.12"
  }
 },
 "nbformat": 4,
 "nbformat_minor": 5
}
